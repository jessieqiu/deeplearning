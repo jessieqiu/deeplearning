{
 "cells": [
  {
   "cell_type": "code",
   "execution_count": 1,
   "metadata": {
    "collapsed": true
   },
   "outputs": [],
   "source": [
    "import numpy as np\n",
    "import matplotlib.pyplot as plt\n",
    "import math\n",
    "import tensorflow as tf"
   ]
  },
  {
   "cell_type": "code",
   "execution_count": 2,
   "metadata": {},
   "outputs": [
    {
     "name": "stdout",
     "output_type": "stream",
     "text": [
      "244 3 242 8\n",
      "(1020, 64, 64, 3) uint8\n",
      "(1020,) uint8\n",
      "(180, 64, 64, 3) uint8\n",
      "(180,) uint8\n"
     ]
    }
   ],
   "source": [
    "train_x = np.load('exam2_train_x.npy')\n",
    "train_y_original = np.load('exam2_train_y.npy')\n",
    "train_y = train_y_original.astype('uint8')\n",
    "\n",
    "test_x = np.load('exam2_test_x.npy')\n",
    "test_y_original = np.load('exam2_test_y.npy')\n",
    "test_y = test_y_original.astype('uint8')\n",
    "\n",
    "print(train_x.max(),train_x.min(),test_x.max(),test_x.min())\n",
    "print(train_x.shape, train_x.dtype)\n",
    "print(train_y.shape, train_y.dtype)\n",
    "print(test_x.shape, test_x.dtype)\n",
    "print(test_y.shape, test_y.dtype)"
   ]
  },
  {
   "cell_type": "code",
   "execution_count": 3,
   "metadata": {},
   "outputs": [
    {
     "name": "stdout",
     "output_type": "stream",
     "text": [
      "y = 4\n"
     ]
    },
    {
     "data": {
      "image/png": "[encoded data removed]",
      "text/plain": [
       "<matplotlib.figure.Figure at 0x2ceba384dd8>"
      ]
     },
     "metadata": {},
     "output_type": "display_data"
    }
   ],
   "source": [
    "index = 1\n",
    "plt.imshow(train_x[index])\n",
    "print (\"y =\", train_y[index])\n",
    "plt.show()"
   ]
  },
  {
   "cell_type": "code",
   "execution_count": 4,
   "metadata": {
    "collapsed": true
   },
   "outputs": [],
   "source": [
    "def one_hot_encoding(y):\n",
    "    length = y.shape[0]\n",
    "    output = np.zeros((6,length))      \n",
    "    for i in range(length):         \n",
    "        if(y[i][0]>5):  #to prevent index out of bound\n",
    "            print('label is wrong');\n",
    "            return -1\n",
    "        else:\n",
    "            output[y[i][0]][i]=1   \n",
    "    return output"
   ]
  },
  {
   "cell_type": "code",
   "execution_count": 5,
   "metadata": {},
   "outputs": [
    {
     "name": "stdout",
     "output_type": "stream",
     "text": [
      "(1020, 6) (180, 6)\n"
     ]
    }
   ],
   "source": [
    "X_train = train_x/255  # mean center here??\n",
    "X_test = test_x/255\n",
    "Y_train = one_hot_encoding(train_y.reshape(train_y.shape[0],1)).T\n",
    "Y_test = one_hot_encoding(test_y.reshape(test_y.shape[0],1)).T\n",
    "\n",
    "print(Y_train.shape, Y_test.shape)"
   ]
  },
  {
   "cell_type": "code",
   "execution_count": 6,
   "metadata": {},
   "outputs": [
    {
     "data": {
      "text/plain": [
       "dtype('float64')"
      ]
     },
     "execution_count": 6,
     "metadata": {},
     "output_type": "execute_result"
    }
   ],
   "source": [
    "X_test.dtype"
   ]
  },
  {
   "cell_type": "code",
   "execution_count": 7,
   "metadata": {
    "collapsed": true
   },
   "outputs": [],
   "source": [
    "def Placeholder_Maker(h,w,c): #need size here?\n",
    "    x = tf.placeholder(tf.float32, shape=[None,h,w,c], name=\"x_train\")\n",
    "    y = tf.placeholder(tf.float32, shape=[None,6], name=\"y_train\")\n",
    "    return x,y"
   ]
  },
  {
   "cell_type": "code",
   "execution_count": 8,
   "metadata": {},
   "outputs": [
    {
     "name": "stdout",
     "output_type": "stream",
     "text": [
      "X = Tensor(\"x_train:0\", shape=(?, 64, 64, 3), dtype=float32)\n",
      "Y = Tensor(\"y_train:0\", shape=(?, 6), dtype=float32)\n"
     ]
    }
   ],
   "source": [
    "X, Y = Placeholder_Maker(64,64,3)\n",
    "print (\"X = \" + str(X))\n",
    "print (\"Y = \" + str(Y))"
   ]
  },
  {
   "cell_type": "code",
   "execution_count": 9,
   "metadata": {
    "collapsed": true
   },
   "outputs": [],
   "source": [
    "import h5py\n",
    "def save_model(para, path):\n",
    "    f = h5py.File(path,'w')\n",
    "    for k, v in para.items():\n",
    "        f.create_dataset(k, data=v)\n",
    "    f.close()\n",
    "\n",
    "def load_model(path):\n",
    "    dataset = h5py.File(path,'r')\n",
    "    dataset.keys()\n",
    "    para = {}\n",
    "    for i in dataset.keys():\n",
    "        para[i] = np.array(dataset[i])\n",
    "        print(para[i].shape)\n",
    "    dataset.close()\n",
    "    return para"
   ]
  },
  {
   "cell_type": "code",
   "execution_count": 10,
   "metadata": {
    "collapsed": true
   },
   "outputs": [],
   "source": [
    "def initialization(seeed=0):    \n",
    "    \n",
    "    #change shape here\n",
    "    last_dimension = [8,16,256]\n",
    "#    wt = tf.get_variable('W1',[4, 4, 3, 8], initializer = tf.contrib.layers.xavier_initializer(seed = 0))\n",
    "                            \n",
    "    w1 = tf.get_variable( name=\"w_1\", shape=[4, 4, 3, last_dimension[0]], initializer=tf.contrib.layers.xavier_initializer(uniform=False,seed=seeed,dtype=tf.float32))\n",
    "    w2 = tf.get_variable( name=\"w_2\", shape=[2, 2, 8, last_dimension[1]], initializer=tf.contrib.layers.xavier_initializer(uniform=False,seed=seeed,dtype=tf.float32))\n",
    "    w3 = tf.get_variable( name=\"w_3\", shape=[4096, last_dimension[2]], initializer=tf.contrib.layers.xavier_initializer(uniform=False,seed=seeed,dtype=tf.float32))\n",
    "    w4 = tf.get_variable( name=\"w_4\", shape=[256, 6], initializer=tf.contrib.layers.xavier_initializer(uniform=False,seed=seeed,dtype=tf.float32))\n",
    "\n",
    "    b1 = tf.get_variable( name=\"b_1\", shape=[1, 1, 1, last_dimension[0]], initializer=tf.contrib.layers.xavier_initializer(uniform=False,seed=seeed,dtype=tf.float32))\n",
    "    b2 = tf.get_variable( name=\"b_2\", shape=[1, 1, 1, last_dimension[2]], initializer=tf.contrib.layers.xavier_initializer(uniform=False,seed=seeed,dtype=tf.float32))\n",
    "    b3 = tf.get_variable( name=\"b_3\", shape=[1, last_dimension[2]], initializer=tf.contrib.layers.xavier_initializer(uniform=False,seed=seeed,dtype=tf.float32))\n",
    "    b4 = tf.get_variable( name=\"b_4\", shape=[1, 6], initializer=tf.contrib.layers.xavier_initializer(uniform=False,seed=seeed,dtype=tf.float32))\n",
    "\n",
    "    parameters = {\"w1\": w1,\n",
    "                  \"w2\": w2,\n",
    "                  \"w3\": w3,\n",
    "                  \"w4\": w4,\n",
    "                  \"b1\": b1,\n",
    "                  \"b2\": b2,\n",
    "                  \"b3\": b3,\n",
    "                  \"b4\": b4\n",
    "                 }\n",
    "\n",
    "    return parameters    "
   ]
  },
  {
   "cell_type": "code",
   "execution_count": 11,
   "metadata": {
    "collapsed": true
   },
   "outputs": [],
   "source": [
    "def calculate_cross_entropy_loss(a,y):\n",
    "    #check shape here!!!!!!!!\n",
    "    #print(\"loss calc func shape\", a.shape, \"y\", y.shape)\n",
    "    #x = tf.constant([1.8, 2.2], dtype=tf.float32)\n",
    "#     begin = i.eval()\n",
    "#     end = j.eval()\n",
    "\n",
    "    cost =  tf.reduce_mean(tf.nn.softmax_cross_entropy_with_logits(logits = a, labels = y))\n",
    "    return cost"
   ]
  },
  {
   "cell_type": "code",
   "execution_count": 12,
   "metadata": {
    "collapsed": true
   },
   "outputs": [],
   "source": [
    "def forward_propagation_with_regularization(X, parameters):  #add reg here\n",
    "    \n",
    "    tf.set_random_seed(1)    \n",
    "    w1 = parameters[\"w1\"]\n",
    "    w2 = parameters[\"w2\"]\n",
    "    w3 = parameters[\"w3\"]\n",
    "    w4 = parameters[\"w4\"]\n",
    "    b1 = parameters[\"b1\"]\n",
    "    b2 = parameters[\"b2\"]\n",
    "    b3 = parameters[\"b3\"]\n",
    "    b4 = parameters[\"b4\"]\n",
    "    \n",
    "#     conv1 = tf.layers.conv2d(inputs=X,filters=32,kernel_size=[5, 5],padding=\"same\",activation=tf.nn.relu)\n",
    "    l2 = tf.contrib.layers.l2_regularizer(1.0)\n",
    "    \n",
    "    convo1 = tf.contrib.layers.conv2d(\n",
    "        inputs=X,\n",
    "        num_outputs=32,\n",
    "        kernel_size=3,\n",
    "        stride=1,\n",
    "        padding='SAME',\n",
    "        activation_fn=tf.nn.relu,\n",
    "        normalizer_fn=tf.contrib.layers.batch_norm,\n",
    "        normalizer_params=None,\n",
    "        weights_initializer=tf.contrib.layers.xavier_initializer(),\n",
    "        weights_regularizer=None,\n",
    "        biases_initializer=tf.zeros_initializer(),\n",
    "        biases_regularizer=None,\n",
    "        #trainable=True,\n",
    "    )\n",
    "\n",
    "    pool1 = tf.contrib.layers.max_pool2d(\n",
    "        inputs=convo1,\n",
    "        kernel_size=2,\n",
    "        stride=2,\n",
    "        padding='SAME',\n",
    "    )\n",
    "    #pool =\n",
    "    convo2 = tf.contrib.layers.conv2d(\n",
    "        inputs=pool1,\n",
    "        num_outputs=16,\n",
    "        kernel_size=3,\n",
    "        stride=1,\n",
    "        padding='SAME',\n",
    "        activation_fn=tf.nn.relu,\n",
    "        normalizer_fn=tf.contrib.layers.batch_norm,\n",
    "        normalizer_params=None,\n",
    "        weights_initializer=tf.contrib.layers.xavier_initializer(),\n",
    "        weights_regularizer=None,\n",
    "        biases_initializer=tf.zeros_initializer(),\n",
    "        biases_regularizer=None,\n",
    "        #trainable=True,\n",
    "    )\n",
    "\n",
    "    pool2 = tf.contrib.layers.max_pool2d(\n",
    "        inputs=convo2,\n",
    "        kernel_size=2,\n",
    "        stride=2,\n",
    "        padding='SAME',\n",
    "    )\n",
    "    \n",
    "#     Z1 = tf.nn.conv2d(X, w1, strides = [1,1,1,1], padding = 'SAME')\n",
    "#     A1 = tf.nn.relu(Z1)\n",
    "#     P1 = tf.nn.max_pool(A1, ksize = [1,4,4,1], strides = [1,4,4,1], padding = 'SAME')\n",
    "    \n",
    "#     Z2 = tf.nn.conv2d(P1, w2, strides = [1,1,1,1], padding = 'SAME')\n",
    "#     A2 = tf.nn.relu(Z2)\n",
    "#     P2 = tf.nn.max_pool(A2, ksize = [1,4,4,1], strides = [1,4,4,1], padding = 'SAME')\n",
    "    \n",
    "        \n",
    "    P2_flat = tf.contrib.layers.flatten(pool2)\n",
    "\n",
    "    #P2_flat = tf.contrib.layers.flatten(P2)\n",
    "    #print(P2_flat) Tensor(\"Flatten/Reshape:0\", shape=(?, 64), dtype=float32)\n",
    "    #l2 = tf.contrib.layers.l2_regularizer(0.001)\n",
    "    lam1 = 0.10  \n",
    "    lam2 = 0.10   #1.0 is best\n",
    "    re_l2_1 = tf.contrib.layers.l2_regularizer(scale=lam2)\n",
    "    re_l2_2 = tf.contrib.layers.l2_regularizer(scale=lam2)\n",
    "    #re_l1_l2 = tf.contrib.layers.l1_l2_regularizer(scale_l1=lam1,scale_l2=lam2)\n",
    "    xavier = tf.contrib.layers.xavier_initializer(uniform=False,seed=1,dtype=tf.float32)\n",
    "    \n",
    "    #Trying LeNet\n",
    "#     conv3 = tf.contrib.layers.conv2d(\n",
    "#         pool2,\n",
    "#         100,\n",
    "#         [2,2],\n",
    "#         stride=1,\n",
    "#         padding='SAME',\n",
    "#         activation_fn=tf.nn.relu,\n",
    "#         normalizer_fn=None,\n",
    "#         normalizer_params=None,\n",
    "#         weights_initializer=tf.contrib.layers.xavier_initializer(),\n",
    "#         weights_regularizer=re_l2_1,\n",
    "#         biases_initializer=tf.zeros_initializer(),\n",
    "#         biases_regularizer=re_l2_1,\n",
    "#     )\n",
    "    \n",
    "        \n",
    "    \n",
    "   # A3 = tf.nn.relu(Z3)\n",
    "    Z3 = tf.contrib.layers.fully_connected(P2_flat, 64, activation_fn=tf.nn.relu, \n",
    "                                           weights_regularizer = re_l2_1, \n",
    "                                           biases_initializer=xavier,\n",
    "                                           biases_regularizer= re_l2_1\n",
    "                                          )\n",
    "    #Z3_dropout =  tf.nn.dropout(Z3,0.8,seed=42)\n",
    "    #Z3_flat = tf.contrib.layers.flatten(conv3)\n",
    "    Z4 = tf.contrib.layers.fully_connected(Z3, 6, activation_fn=None, \n",
    "                                           weights_regularizer = re_l2_2,  \n",
    "                                           biases_initializer=xavier,\n",
    "                                           biases_regularizer= re_l2_2\n",
    "                                          )\n",
    "    #Z4_dropout =  tf.nn.dropout(Z4,0.75,seed=42)\n",
    "       \n",
    "    \n",
    "    return Z4"
   ]
  },
  {
   "cell_type": "code",
   "execution_count": 13,
   "metadata": {},
   "outputs": [
    {
     "name": "stdout",
     "output_type": "stream",
     "text": [
      "Tensor(\"x_train:0\", shape=(?, 64, 64, 3), dtype=float32) Tensor(\"y_train:0\", shape=(?, 6), dtype=float32)\n",
      "<tf.Variable 'w_1:0' shape=(4, 4, 3, 8) dtype=float32_ref>\n",
      "w1 [-0.12456704 -0.08079391  0.08646105 -0.05980998  0.02543967  0.00978196\n",
      "  0.01537102  0.02306365]\n",
      "Z =  [ 1.75615489 -0.66336882  2.95123529  0.63440329 -1.20664167  1.0971123 ] , prediction = 2\n"
     ]
    }
   ],
   "source": [
    "tf.reset_default_graph()\n",
    "with tf.Session() as sess:\n",
    "    np.random.seed(1)\n",
    "    #X, Y = create_placeholders(64, 64, 3, 6)\n",
    "    X, Y = Placeholder_Maker(64,64,3)\n",
    "    print(X,Y)\n",
    "    paras = initialization()\n",
    "    print(paras[\"w1\"])\n",
    "    Z = forward_propagation_with_regularization(X, paras)\n",
    "    init = tf.global_variables_initializer()\n",
    "    sess.run(init)\n",
    "    print(\"w1\",paras[\"w1\"].eval()[1,1,1])\n",
    "    begin = 100\n",
    "    end = 200\n",
    "    a = sess.run(Z, {X: X_train[begin:end], Y: Y_train[begin:end]})\n",
    "    print(\"Z = \",a[1],\", prediction =\", tf.argmax(a[1],0).eval())"
   ]
  },
  {
   "cell_type": "code",
   "execution_count": 14,
   "metadata": {},
   "outputs": [
    {
     "name": "stdout",
     "output_type": "stream",
     "text": [
      "cost = 2.68105\n"
     ]
    }
   ],
   "source": [
    "tf.reset_default_graph()\n",
    "with tf.Session() as sess: \n",
    "    tf.set_random_seed(1)\n",
    "    X, Y = Placeholder_Maker(64,64,3)\n",
    "    paras = initialization(0)\n",
    "    Z = forward_propagation_with_regularization(X, paras)\n",
    "    begin = 100\n",
    "    end = 200\n",
    "    cost = calculate_cross_entropy_loss(Z, Y)\n",
    "    init = tf.global_variables_initializer()\n",
    "    sess.run(init)\n",
    "    a = sess.run(cost, {X: X_train[begin:end], Y: Y_train[begin:end]})\n",
    "    print(\"cost = \" + str(a))"
   ]
  },
  {
   "cell_type": "code",
   "execution_count": 15,
   "metadata": {
    "collapsed": true
   },
   "outputs": [],
   "source": [
    "def training(parameters, learning_Rate = 0.002, epochs = 20, mini_batch_size = 100):\n",
    "    \n",
    "    tf.set_random_seed(1)\n",
    "    total_size = X_train.shape[0]\n",
    "    iter_per_epoch = math.ceil(total_size/mini_batch_size)\n",
    "      \n",
    "    cost_list = []  \n",
    "    train_acc_list = []\n",
    "    test_acc_list = []\n",
    "    X, Y = Placeholder_Maker(64,64,3)\n",
    "\n",
    "    Z = forward_propagation_with_regularization(X, parameters)\n",
    "    cross_entropy_loss = calculate_cross_entropy_loss(Z, Y)   \n",
    "    \n",
    "    #change to adaptive learning rate here    \n",
    "    batch = tf.Variable(0, dtype=tf.float16)\n",
    "    learningRate = tf.train.exponential_decay(0.02,batch*mini_batch_size,total_size,0.95,staircase=True)\n",
    "    learningRate = learning_Rate\n",
    "    # try different optimizer here\n",
    "    #optimizer = tf.train.MomentumOptimizer(learningRate, 0.9).minimize(cross_entropy_loss)\n",
    "    #optimizer = tf.train.AdamOptimizer(learning_rate=learningRate).minimize(cross_entropy_loss,global_step=batch)\n",
    "    optimizer = tf.train.AdamOptimizer(learning_rate=learningRate).minimize(cross_entropy_loss)\n",
    "\n",
    "    #optimizer   = tf.train.AdagradOptimizer(learning_rate=learningRate).minimize(cross_entropy_loss)\n",
    "    init = tf.global_variables_initializer()                              \n",
    "                               \n",
    "    with tf.Session() as sess:\n",
    "        sess.run(init)       \n",
    "        for i in range(epochs):\n",
    "            cost = 0\n",
    "            #print(\"learning rate\", learningRate.eval())\n",
    "            for j in range(iter_per_epoch):\n",
    "                begin = j * mini_batch_size            \n",
    "                if(j < iter_per_epoch -1):\n",
    "                    end = begin + mini_batch_size\n",
    "                else:\n",
    "                    end = total_size\n",
    "                #print(begin, end)\n",
    "                batch_cost,o = sess.run([cross_entropy_loss, optimizer], {X: X_train[begin:end], Y: Y_train[begin:end]})\n",
    "                #print(\"iteration\",j,\"batch_cost\", batch_cost)\n",
    "                cost = cost + batch_cost * (end-begin) \n",
    "                \n",
    "            #after one epoch is done\n",
    "            cost = cost/total_size\n",
    "            cost_list.append(cost)\n",
    "            \n",
    "             # Calculate the correct predictions\n",
    "            predict_op = tf.argmax(Z, 1)\n",
    "            correct_prediction = tf.equal(predict_op, tf.argmax(Y, 1))\n",
    "\n",
    "            # Calculate accuracy on the test set\n",
    "            accuracy = tf.reduce_mean(tf.cast(correct_prediction, \"float\"))\n",
    "            #print(accuracy)\n",
    "            train_accuracy = accuracy.eval({X: X_train, Y: Y_train})\n",
    "            test_accuracy = accuracy.eval({X: X_test, Y: Y_test})\n",
    "            print(\"-----> epoch: \", i, \", total cost: \",cost,\"Train Accuracy\",train_accuracy,\" Test Accuracy:\", test_accuracy)\n",
    "            train_acc_list.append(train_accuracy)\n",
    "            test_acc_list.append(test_accuracy)\n",
    "   \n",
    "        print(\"All epochs done!!! yaaay!!!\")\n",
    "        #print(\"cost list\", cost_list)\n",
    "        iteration_x = np.arange(epochs)\n",
    "        #print(iteration_x,cost_list,train_acc_list,test_acc_list)\n",
    "        \n",
    "        plt.plot(iteration_x, cost_list)\n",
    "        plt.plot(iteration_x, train_acc_list)\n",
    "        plt.plot(iteration_x, test_acc_list)\n",
    "        plt.title('cost, train and test accuracy')\n",
    "        plt.show()\n",
    "                               \n",
    "        predict_op = tf.argmax(Z, 1)\n",
    "        correct_prediction = tf.equal(predict_op, tf.argmax(Y, 1))\n",
    "        \n",
    "        accuracy = tf.reduce_mean(tf.cast(correct_prediction, \"float\"))\n",
    "        train_accuracy = accuracy.eval({X: X_train, Y: Y_train})\n",
    "        test_accuracy = accuracy.eval({X: X_test, Y: Y_test})\n",
    "        print(\"Final Train Accuracy:\", train_accuracy)\n",
    "        print(\"Final Test Accuracy:\", test_accuracy)\n",
    "                \n",
    "    return train_accuracy, test_accuracy, parameters\n",
    "            "
   ]
  },
  {
   "cell_type": "code",
   "execution_count": 19,
   "metadata": {},
   "outputs": [
    {
     "name": "stdout",
     "output_type": "stream",
     "text": [
      "-----> epoch:  0 , total cost:  1.21186351309 Train Accuracy 0.864706  Test Accuracy: 0.8\n",
      "-----> epoch:  1 , total cost:  0.454185652674 Train Accuracy 0.927451  Test Accuracy: 0.85\n",
      "-----> epoch:  2 , total cost:  0.236332508133 Train Accuracy 0.944118  Test Accuracy: 0.883333\n",
      "-----> epoch:  3 , total cost:  0.134550039017 Train Accuracy 0.955882  Test Accuracy: 0.877778\n",
      "-----> epoch:  4 , total cost:  0.0824348237731 Train Accuracy 0.993137  Test Accuracy: 0.911111\n",
      "-----> epoch:  5 , total cost:  0.0590513192583 Train Accuracy 0.994118  Test Accuracy: 0.927778\n",
      "-----> epoch:  6 , total cost:  0.0287946363849 Train Accuracy 0.99902  Test Accuracy: 0.927778\n",
      "-----> epoch:  7 , total cost:  0.0203669064213 Train Accuracy 1.0  Test Accuracy: 0.944444\n",
      "-----> epoch:  8 , total cost:  0.0147761816562 Train Accuracy 0.998039  Test Accuracy: 0.955556\n",
      "-----> epoch:  9 , total cost:  0.00938066228535 Train Accuracy 1.0  Test Accuracy: 0.938889\n",
      "-----> epoch:  10 , total cost:  0.00683223398907 Train Accuracy 1.0  Test Accuracy: 0.933333\n",
      "-----> epoch:  11 , total cost:  0.00476901316114 Train Accuracy 1.0  Test Accuracy: 0.938889\n",
      "-----> epoch:  12 , total cost:  0.00341023792234 Train Accuracy 1.0  Test Accuracy: 0.944444\n",
      "-----> epoch:  13 , total cost:  0.0026265324676 Train Accuracy 1.0  Test Accuracy: 0.938889\n",
      "-----> epoch:  14 , total cost:  0.00211115117475 Train Accuracy 1.0  Test Accuracy: 0.944444\n",
      "-----> epoch:  15 , total cost:  0.00175922217935 Train Accuracy 1.0  Test Accuracy: 0.944444\n",
      "-----> epoch:  16 , total cost:  0.00149903281029 Train Accuracy 1.0  Test Accuracy: 0.95\n",
      "-----> epoch:  17 , total cost:  0.00130155265466 Train Accuracy 1.0  Test Accuracy: 0.95\n",
      "-----> epoch:  18 , total cost:  0.00113957597647 Train Accuracy 1.0  Test Accuracy: 0.955556\n",
      "-----> epoch:  19 , total cost:  0.001008374404 Train Accuracy 1.0  Test Accuracy: 0.955556\n",
      "-----> epoch:  20 , total cost:  0.000899880928973 Train Accuracy 1.0  Test Accuracy: 0.955556\n",
      "-----> epoch:  21 , total cost:  0.000806084223857 Train Accuracy 1.0  Test Accuracy: 0.955556\n",
      "-----> epoch:  22 , total cost:  0.000725571511116 Train Accuracy 1.0  Test Accuracy: 0.95\n",
      "-----> epoch:  23 , total cost:  0.000657330476636 Train Accuracy 1.0  Test Accuracy: 0.95\n",
      "-----> epoch:  24 , total cost:  0.000595790499431 Train Accuracy 1.0  Test Accuracy: 0.95\n",
      "-----> epoch:  25 , total cost:  0.000541611527011 Train Accuracy 1.0  Test Accuracy: 0.95\n",
      "-----> epoch:  26 , total cost:  0.000493247414923 Train Accuracy 1.0  Test Accuracy: 0.95\n",
      "-----> epoch:  27 , total cost:  0.000451439492869 Train Accuracy 1.0  Test Accuracy: 0.95\n",
      "-----> epoch:  28 , total cost:  0.000412901786951 Train Accuracy 1.0  Test Accuracy: 0.95\n",
      "-----> epoch:  29 , total cost:  0.00037909420847 Train Accuracy 1.0  Test Accuracy: 0.95\n",
      "-----> epoch:  30 , total cost:  0.000348054854233 Train Accuracy 1.0  Test Accuracy: 0.95\n",
      "-----> epoch:  31 , total cost:  0.000320467566709 Train Accuracy 1.0  Test Accuracy: 0.95\n",
      "-----> epoch:  32 , total cost:  0.000295770761737 Train Accuracy 1.0  Test Accuracy: 0.95\n",
      "-----> epoch:  33 , total cost:  0.000273434671369 Train Accuracy 1.0  Test Accuracy: 0.95\n",
      "-----> epoch:  34 , total cost:  0.00025240997995 Train Accuracy 1.0  Test Accuracy: 0.95\n",
      "-----> epoch:  35 , total cost:  0.000233901328387 Train Accuracy 1.0  Test Accuracy: 0.95\n",
      "-----> epoch:  36 , total cost:  0.000216585329897 Train Accuracy 1.0  Test Accuracy: 0.955556\n",
      "-----> epoch:  37 , total cost:  0.000201034880703 Train Accuracy 1.0  Test Accuracy: 0.961111\n",
      "-----> epoch:  38 , total cost:  0.000186989294158 Train Accuracy 1.0  Test Accuracy: 0.961111\n",
      "-----> epoch:  39 , total cost:  0.000173814194675 Train Accuracy 1.0  Test Accuracy: 0.961111\n",
      "-----> epoch:  40 , total cost:  0.000161370987282 Train Accuracy 1.0  Test Accuracy: 0.961111\n",
      "-----> epoch:  41 , total cost:  0.000150584066896 Train Accuracy 1.0  Test Accuracy: 0.961111\n",
      "-----> epoch:  42 , total cost:  0.000140359973958 Train Accuracy 1.0  Test Accuracy: 0.961111\n",
      "-----> epoch:  43 , total cost:  0.000130931231078 Train Accuracy 1.0  Test Accuracy: 0.961111\n",
      "-----> epoch:  44 , total cost:  0.00012203512991 Train Accuracy 1.0  Test Accuracy: 0.961111\n",
      "-----> epoch:  45 , total cost:  0.000113993132996 Train Accuracy 1.0  Test Accuracy: 0.961111\n",
      "-----> epoch:  46 , total cost:  0.000106513023389 Train Accuracy 1.0  Test Accuracy: 0.961111\n",
      "-----> epoch:  47 , total cost:  9.94542003765e-05 Train Accuracy 1.0  Test Accuracy: 0.961111\n",
      "-----> epoch:  48 , total cost:  9.30821600948e-05 Train Accuracy 1.0  Test Accuracy: 0.961111\n",
      "-----> epoch:  49 , total cost:  8.69758101883e-05 Train Accuracy 1.0  Test Accuracy: 0.961111\n",
      "All epochs done!!! yaaay!!!\n"
     ]
    },
    {
     "data": {
      "image/png": "[encoded data removed]",
      "text/plain": [
       "<matplotlib.figure.Figure at 0x2ce82d90668>"
      ]
     },
     "metadata": {},
     "output_type": "display_data"
    },
    {
     "name": "stdout",
     "output_type": "stream",
     "text": [
      "Final Train Accuracy: 1.0\n",
      "Final Test Accuracy: 0.961111\n"
     ]
    }
   ],
   "source": [
    "path_f = \"para_Bijie_Qiu.dat\"\n",
    "tf.reset_default_graph()\n",
    "#def training(parameters, learningRate = 0.01, epochs = 20, mini_batch_size = 100)\n",
    "with tf.Session() as sess:\n",
    "    paras = initialization(42)\n",
    "    #_, _, parameters = training(paras, epochs = 100, mini_batch_size = 20) #learningRate = 0.1,  epoch 25: 95\n",
    "    #_, _, parameters = training(paras, epochs = 50, learning_Rate = 0.001, mini_batch_size = 30)  #epoch is 20 gives 96.67\n",
    "\n",
    "   # _, _, parameters = training(paras,learning_Rate = 0.001, epochs = 20, mini_batch_size = 30) #epoch is 20 gives 94.44\n",
    "    _, _, parameters = training(paras,learning_Rate = 0.001, epochs = 50, mini_batch_size = 10) #epoch is 8 gives 94.44\n",
    "\n",
    "    #print(parameters)\n",
    "        "
   ]
  },
  {
   "cell_type": "code",
   "execution_count": 1,
   "metadata": {
    "collapsed": true
   },
   "outputs": [],
   "source": [
    "#see photo for architecture"
   ]
  },
  {
   "cell_type": "code",
   "execution_count": 18,
   "metadata": {},
   "outputs": [
    {
     "name": "stdout",
     "output_type": "stream",
     "text": [
      "1.1.0\n"
     ]
    }
   ],
   "source": [
    "print(tf.__version__)"
   ]
  },
  {
   "cell_type": "code",
   "execution_count": null,
   "metadata": {
    "collapsed": true
   },
   "outputs": [],
   "source": []
  }
 ],
 "metadata": {
  "kernelspec": {
   "display_name": "Python 3",
   "language": "python",
   "name": "python3"
  },
  "language_info": {
   "codemirror_mode": {
    "name": "ipython",
    "version": 3
   },
   "file_extension": ".py",
   "mimetype": "text/x-python",
   "name": "python",
   "nbconvert_exporter": "python",
   "pygments_lexer": "ipython3",
   "version": "3.6.3"
  }
 },
 "nbformat": 4,
 "nbformat_minor": 2
}
